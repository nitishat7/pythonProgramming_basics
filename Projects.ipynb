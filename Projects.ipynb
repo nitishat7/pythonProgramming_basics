{
 "cells": [
  {
   "cell_type": "code",
   "execution_count": 31,
   "id": "55026b90",
   "metadata": {},
   "outputs": [
    {
     "name": "stdout",
     "output_type": "stream",
     "text": [
      "You have 5 lives!!\n",
      "Guess a number between 1 to 10 :1\n",
      "Your guess is too low\n",
      "Guess a number between 1 to 10 :3\n",
      "Your guess is too low\n",
      "Guess a number between 1 to 10 :5\n",
      "Your guess is too low\n",
      "Guess a number between 1 to 10 :8\n",
      "Your guess is too high\n",
      "Guess a number between 1 to 10 :6\n",
      "You guessed it, the number was 6 \n",
      " You guessed the number in 5 tries!!\n"
     ]
    }
   ],
   "source": [
    "#1. Guess the number game \n",
    "\n",
    "import random\n",
    "number = random.randint(1, 10)\n",
    "print(\"You have 5 lives!!\")\n",
    "guess_limit = 0\n",
    "while guess_limit < 5:\n",
    "\n",
    "    guess = int(input(f\"Guess a number between 1 to 10 :\"))\n",
    "    guess_limit += 1\n",
    "    if guess < number:\n",
    "        print('Your guess is too low')\n",
    "    if guess > number:\n",
    "        print('Your guess is too high')\n",
    "    if guess == number:\n",
    "        break\n",
    "if guess == number:\n",
    "    print(f\"You guessed it, the number was {number} \\nYou guessed the number in {guess_limit} tries!!\")\n",
    "else:\n",
    "          print(f\"You did not guess the number!! The number was '{number}'. Your Lives Ended!!\")\n",
    "          "
   ]
  },
  {
   "cell_type": "code",
   "execution_count": 62,
   "id": "eef86e97",
   "metadata": {},
   "outputs": [
    {
     "name": "stdout",
     "output_type": "stream",
     "text": [
      "Enter a choice (rock, paper, scissors): rock\n",
      "\n",
      "You chose rock, computer chose paper.\n",
      "\n",
      "Paper eats Rock, You Lose!!\n",
      "Enter a choice (rock, paper, scissors): paper\n",
      "\n",
      "You chose paper, computer chose scissors.\n",
      "\n",
      "Scissors cuts you, You loose!!\n",
      "Enter a choice (rock, paper, scissors): scissors\n",
      "\n",
      "You chose scissors, computer chose rock.\n",
      "\n",
      "Rock smashes you, You Loose!!\n",
      "Enter a choice (rock, paper, scissors): rock\n",
      "\n",
      "You chose rock, computer chose paper.\n",
      "\n",
      "Paper eats Rock, You Lose!!\n",
      "Enter a choice (rock, paper, scissors): paper\n",
      "\n",
      "You chose paper, computer chose rock.\n",
      "\n",
      "Paper eats you, You win!!\n",
      "Game Ended\n"
     ]
    }
   ],
   "source": [
    "#2.Rock Paper Scissors\n",
    "\n",
    "import random \n",
    "i = 0\n",
    "# print(\"You have 5 lives!!\")\n",
    "while i<5:\n",
    "    player = input(\"Enter a choice (rock, paper, scissors): \")\n",
    "    actions = [\"rock\", \"paper\", \"scissors\"]\n",
    "    python = random.choice(actions)\n",
    "    print(f\"\\nYou chose {player}, computer chose {python}.\\n\")\n",
    "    \n",
    "    #rock<paper\n",
    "    #paper<scissor\n",
    "    #scissor<rock\n",
    "    \n",
    "    if player == python:\n",
    "        print(\"Tie!\")\n",
    "    elif player==\"rock\":\n",
    "        if python==\"scissors\":\n",
    "            print(\"Rock smashes scissors You win!!\")\n",
    "            break\n",
    "        else:\n",
    "            print(\"Paper eats Rock, You Lose!!\")\n",
    "    elif player==\"paper\":\n",
    "        if python==\"rock\":\n",
    "            print(\"Paper eats you, You win!!\")\n",
    "            break\n",
    "        else:\n",
    "            print(\"Scissors cuts you, You loose!!\")\n",
    "    elif player==\"scissors\":\n",
    "        if python==\"paper\":\n",
    "            print(\"Scissors cuts paper, You win!!\")\n",
    "            break\n",
    "        else:\n",
    "            print(\"Rock smashes you, You Loose!!\")\n",
    "        i=i+1\n",
    "    print(\"Game Ended\")"
   ]
  },
  {
   "cell_type": "code",
   "execution_count": null,
   "id": "bfb7551d",
   "metadata": {},
   "outputs": [],
   "source": []
  },
  {
   "cell_type": "code",
   "execution_count": null,
   "id": "d3050327",
   "metadata": {},
   "outputs": [],
   "source": []
  }
 ],
 "metadata": {
  "kernelspec": {
   "display_name": "Python 3 (ipykernel)",
   "language": "python",
   "name": "python3"
  },
  "language_info": {
   "codemirror_mode": {
    "name": "ipython",
    "version": 3
   },
   "file_extension": ".py",
   "mimetype": "text/x-python",
   "name": "python",
   "nbconvert_exporter": "python",
   "pygments_lexer": "ipython3",
   "version": "3.10.9"
  }
 },
 "nbformat": 4,
 "nbformat_minor": 5
}
