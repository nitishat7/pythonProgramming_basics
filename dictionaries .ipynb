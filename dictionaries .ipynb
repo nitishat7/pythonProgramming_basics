{
 "cells": [
  {
   "cell_type": "code",
   "execution_count": 12,
   "id": "966d0113",
   "metadata": {
    "scrolled": true
   },
   "outputs": [
    {
     "name": "stdout",
     "output_type": "stream",
     "text": [
      "{'name': 'ram', 'age': 22, 'marks': 85, 'address': ['ktm', 'pkr']}\n",
      "<class 'dict'>\n",
      "dict_keys(['name', 'age', 'marks', 'address'])\n",
      "dict_values(['ram', 22, 85, ['ktm', 'pkr']])\n",
      "dict_items([('name', 'ram'), ('age', 22), ('marks', 85), ('address', ['ktm', 'pkr'])])\n"
     ]
    }
   ],
   "source": [
    "student={\n",
    "    'name':'ram',\n",
    "    'age':22,\n",
    "    'marks': 85,\n",
    "    'address':['ktm','pkr']\n",
    "    \n",
    "}\n",
    "print(student)\n",
    "print(type(student))\n",
    "print(student.keys())\n",
    "print(student.values())\n",
    "print(student.items()) #total in the dictonaries"
   ]
  },
  {
   "cell_type": "code",
   "execution_count": 17,
   "id": "56c1d2c6",
   "metadata": {},
   "outputs": [
    {
     "name": "stdout",
     "output_type": "stream",
     "text": [
      "ram\n",
      "22\n",
      "85\n",
      "['ktm', 'pkr']\n"
     ]
    }
   ],
   "source": [
    "for i in student.values(): #studet's its values \n",
    "    print(i)"
   ]
  },
  {
   "cell_type": "code",
   "execution_count": 20,
   "id": "586c8e66",
   "metadata": {},
   "outputs": [
    {
     "name": "stdout",
     "output_type": "stream",
     "text": [
      "Key is name and value is ram\n",
      "Key is age and value is 22\n",
      "Key is marks and value is 85\n",
      "Key is address and value is ['ktm', 'pkr']\n"
     ]
    }
   ],
   "source": [
    "for keys,values in student.items():\n",
    "    print(f\"Key is {keys} and value is {values}\")\n",
    "          "
   ]
  },
  {
   "cell_type": "code",
   "execution_count": 21,
   "id": "6d106fbd",
   "metadata": {},
   "outputs": [
    {
     "name": "stdout",
     "output_type": "stream",
     "text": [
      "ram\n"
     ]
    }
   ],
   "source": [
    "#print name \n",
    "print(student['name'])"
   ]
  },
  {
   "cell_type": "code",
   "execution_count": 22,
   "id": "6a9dffa4",
   "metadata": {},
   "outputs": [
    {
     "name": "stdout",
     "output_type": "stream",
     "text": [
      "{'name': 'shyam', 'age': 22, 'marks': 85, 'address': ['ktm', 'pkr']}\n"
     ]
    }
   ],
   "source": [
    "#update name\n",
    "student['name']='shyam'\n",
    "print(student)"
   ]
  },
  {
   "cell_type": "code",
   "execution_count": 23,
   "id": "d5b32535",
   "metadata": {},
   "outputs": [
    {
     "name": "stdout",
     "output_type": "stream",
     "text": [
      "['ktm', 'pkr']\n"
     ]
    }
   ],
   "source": [
    "print(student['address'])"
   ]
  },
  {
   "cell_type": "code",
   "execution_count": 28,
   "id": "6e240ead",
   "metadata": {},
   "outputs": [
    {
     "name": "stdout",
     "output_type": "stream",
     "text": [
      "ktm\n"
     ]
    }
   ],
   "source": [
    "print(student['address'][0])"
   ]
  },
  {
   "cell_type": "code",
   "execution_count": 36,
   "id": "20a3af15",
   "metadata": {},
   "outputs": [
    {
     "name": "stdout",
     "output_type": "stream",
     "text": [
      "{'name': 'shyam', 'age': 22, 'marks': 85, 'address': ['ktm', 'Thailand', 'Thailand', 'pkr']}\n"
     ]
    }
   ],
   "source": [
    "student['address'].insert(1,'Thailand')\n",
    "print(student)"
   ]
  },
  {
   "cell_type": "code",
   "execution_count": 37,
   "id": "5e635192",
   "metadata": {},
   "outputs": [
    {
     "name": "stdout",
     "output_type": "stream",
     "text": [
      "{'name': 'shyam', 'age': 22, 'marks': 85, 'address': ['Thailand', 'Thailand', 'pkr']}\n"
     ]
    }
   ],
   "source": [
    "student['address'].pop(0)\n",
    "print(student)"
   ]
  },
  {
   "cell_type": "code",
   "execution_count": 41,
   "id": "e2d69e46",
   "metadata": {},
   "outputs": [
    {
     "name": "stdout",
     "output_type": "stream",
     "text": [
      "Thailand is here\n",
      "2\n"
     ]
    }
   ],
   "source": [
    "if 'Thailand' in student['address']:\n",
    "    print('Thailand is here')\n",
    "    print(student['address'].count('Thailand'))\n"
   ]
  },
  {
   "cell_type": "code",
   "execution_count": 44,
   "id": "2b46fca9",
   "metadata": {},
   "outputs": [
    {
     "name": "stdout",
     "output_type": "stream",
     "text": [
      "Thailand is here\n",
      "None\n",
      "{'name': 'shyam', 'age': 22, 'marks': 85, 'address': ['pkr']}\n"
     ]
    }
   ],
   "source": [
    "if 'Thailand' in student['address']:\n",
    "    print('Thailand is here')\n",
    "    print(student['address'].remove('Thailand'))\n",
    "    print(student)\n"
   ]
  },
  {
   "cell_type": "code",
   "execution_count": 45,
   "id": "2367da9b",
   "metadata": {},
   "outputs": [],
   "source": [
    "if 'Thailand' in student['address']:\n",
    "    print('Thailand is here')\n",
    "    print(student['address'].count('Thailand'))\n",
    "    print(student)"
   ]
  },
  {
   "cell_type": "code",
   "execution_count": 47,
   "id": "54c24cd3",
   "metadata": {},
   "outputs": [
    {
     "name": "stdout",
     "output_type": "stream",
     "text": [
      "{'name': 'shyam', 'age': 22, 'marks': 85, 'address': ['pkr', 'Thailand', 'Thailand']}\n"
     ]
    }
   ],
   "source": [
    "student['address'].insert(1,'Thailand')\n",
    "print(student)\n"
   ]
  },
  {
   "cell_type": "code",
   "execution_count": 48,
   "id": "d18f25cd",
   "metadata": {},
   "outputs": [
    {
     "name": "stdout",
     "output_type": "stream",
     "text": [
      "Thailand is here\n",
      "None\n",
      "{'name': 'shyam', 'age': 22, 'marks': 85, 'address': ['pkr', 'Thailand']}\n"
     ]
    }
   ],
   "source": [
    "if 'Thailand' in student['address']:\n",
    "    print('Thailand is here')\n",
    "    print(student['address'].remove('Thailand'))\n",
    "    print(student)\n"
   ]
  },
  {
   "cell_type": "code",
   "execution_count": 50,
   "id": "c5751baf",
   "metadata": {
    "scrolled": true
   },
   "outputs": [
    {
     "name": "stdout",
     "output_type": "stream",
     "text": [
      "shyam <class 'str'>\n",
      "22 <class 'int'>\n",
      "85 <class 'int'>\n",
      "['pkr', 'Thailand'] <class 'list'>\n"
     ]
    }
   ],
   "source": [
    "for i in student.values():\n",
    "    print(i,type(i))"
   ]
  },
  {
   "cell_type": "code",
   "execution_count": 58,
   "id": "d9b92e87",
   "metadata": {},
   "outputs": [
    {
     "name": "stdout",
     "output_type": "stream",
     "text": [
      "['Thailand', 'Thailand', 'Bali', 'Ktm']\n",
      "['Thailand', 'Thailand', 'Bali']\n",
      "Ktm\n"
     ]
    }
   ],
   "source": [
    "l1 = ['Thailand','Thailand','Bali','Ktm']\n",
    "print(l1)\n",
    "a = l1.pop()\n",
    "print(l1)\n",
    "print(a)\n",
    "     \n",
    "# enumerate counts\n"
   ]
  },
  {
   "cell_type": "code",
   "execution_count": 61,
   "id": "d34dd6da",
   "metadata": {},
   "outputs": [
    {
     "data": {
      "text/plain": [
       "55"
      ]
     },
     "execution_count": 61,
     "metadata": {},
     "output_type": "execute_result"
    }
   ],
   "source": [
    "def addition(a,b):\n",
    "    c = a+b \n",
    "#     print(c)\n",
    "    return c\n",
    "    \n",
    "addition(22,33)"
   ]
  },
  {
   "cell_type": "code",
   "execution_count": 62,
   "id": "32c8984a",
   "metadata": {},
   "outputs": [
    {
     "name": "stdout",
     "output_type": "stream",
     "text": [
      "Sum is : 55\n"
     ]
    }
   ],
   "source": [
    "res = addition(22,33)\n",
    "print(f\"Sum is : {res}\")\n",
    "\n"
   ]
  },
  {
   "cell_type": "code",
   "execution_count": 65,
   "id": "c66df64b",
   "metadata": {},
   "outputs": [
    {
     "name": "stdout",
     "output_type": "stream",
     "text": [
      "(1, 2, 3, 4, 5)\n"
     ]
    }
   ],
   "source": [
    "def fun1(*args):\n",
    "    print(args)\n",
    "    \n",
    "fun1(1,2,3,4,5)"
   ]
  },
  {
   "cell_type": "code",
   "execution_count": null,
   "id": "ad6038a8",
   "metadata": {},
   "outputs": [],
   "source": []
  }
 ],
 "metadata": {
  "kernelspec": {
   "display_name": "Python 3 (ipykernel)",
   "language": "python",
   "name": "python3"
  },
  "language_info": {
   "codemirror_mode": {
    "name": "ipython",
    "version": 3
   },
   "file_extension": ".py",
   "mimetype": "text/x-python",
   "name": "python",
   "nbconvert_exporter": "python",
   "pygments_lexer": "ipython3",
   "version": "3.10.9"
  }
 },
 "nbformat": 4,
 "nbformat_minor": 5
}
