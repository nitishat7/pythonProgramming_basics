{
 "cells": [
  {
   "cell_type": "code",
   "execution_count": 13,
   "id": "a3cc7fa6",
   "metadata": {},
   "outputs": [
    {
     "name": "stdout",
     "output_type": "stream",
     "text": [
      "Enter the number of which you want to calculate factorial of:5\n",
      "Factorial of 5 is : 120\n"
     ]
    }
   ],
   "source": [
    "#Write a Python function to calculate the factorial of a number (a non-negative integer). \n",
    "#The function accepts the number as an argument.\n",
    "\n",
    "def fact(a):\n",
    "    if a == 0:\n",
    "        return 1\n",
    "    else:\n",
    "        return a*fact(a-1)\n",
    "    \n",
    "\n",
    "n=int(input(\"Enter the number of which you want to calculate factorial of:\"))\n",
    "print(f\"Factorial of {n} is : {fact(a)}\")"
   ]
  },
  {
   "cell_type": "code",
   "execution_count": 15,
   "id": "0201e62a",
   "metadata": {},
   "outputs": [
    {
     "name": "stdout",
     "output_type": "stream",
     "text": [
      "Enter a string:nitisha\n",
      "Reversed string is ahsitin\n"
     ]
    }
   ],
   "source": [
    "#Write a Python program to reverse a string.\n",
    "def func(string1):\n",
    "    rstring = ''\n",
    "    index = len(string1)\n",
    "    \n",
    "    while index > 0:\n",
    "        rstring += string1[index-1]\n",
    "        index = index-1\n",
    "    return rstring\n",
    "\n",
    "    \n",
    "a = input(\"Enter a string:\")\n",
    "print(f\"Reversed string is {func(a)}\")\n"
   ]
  },
  {
   "cell_type": "code",
   "execution_count": null,
   "id": "57b3bdec",
   "metadata": {},
   "outputs": [],
   "source": []
  }
 ],
 "metadata": {
  "kernelspec": {
   "display_name": "Python 3 (ipykernel)",
   "language": "python",
   "name": "python3"
  },
  "language_info": {
   "codemirror_mode": {
    "name": "ipython",
    "version": 3
   },
   "file_extension": ".py",
   "mimetype": "text/x-python",
   "name": "python",
   "nbconvert_exporter": "python",
   "pygments_lexer": "ipython3",
   "version": "3.10.9"
  }
 },
 "nbformat": 4,
 "nbformat_minor": 5
}
